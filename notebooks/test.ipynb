{
 "cells": [
  {
   "cell_type": "code",
   "execution_count": 15,
   "metadata": {},
   "outputs": [],
   "source": [
    "import sys\n",
    "sys.setrecursionlimit(1500)"
   ]
  },
  {
   "cell_type": "code",
   "execution_count": 4,
   "metadata": {},
   "outputs": [],
   "source": [
    "class Node:\n",
    "\n",
    "    # Inicializacao da classe\n",
    "    def __init__(self, position:(), parent:()):\n",
    "        self.position = position\n",
    "        self.parent = parent\n",
    "        self.g = 0 # Distance do nó inicial\n",
    "        self.h = 0 # Distancia do nó objetivo\n",
    "        self.f = 0 # Custo total calculado\n",
    "\n",
    "    # Compara os nós\n",
    "    def __eq__(self, other):\n",
    "        return self.position == other.position\n",
    "\n",
    "    # Ordenação dos nós\n",
    "    def __lt__(self, other):\n",
    "         return self.f < other.f\n",
    "\n",
    "    # Formatação da saída dos nós\n",
    "    def __repr__(self):\n",
    "        return ('({0},{1})'.format(self.position, self.f))"
   ]
  },
  {
   "cell_type": "code",
   "execution_count": 36,
   "metadata": {
    "scrolled": true
   },
   "outputs": [
    {
     "name": "stdout",
     "output_type": "stream",
     "text": [
      "Digite o nome do arquivo: entrada.txt\n"
     ]
    }
   ],
   "source": [
    "maze = {}\n",
    "# Adiciona um caracter qualquer para iniciar o loop\n",
    "chars = ['c']\n",
    "start = None\n",
    "end = None\n",
    "heightMaze = 0\n",
    "fileName = input(\"Digite o nome do arquivo: \")\n",
    "\n",
    "# Abre o arquivo\n",
    "fp = open(fileName, 'r')\n",
    "\n",
    "# Faz a leitura do comeco do arquivo pegando altura e largura\n",
    "height = fp.read(2)\n",
    "fp.read(1) \n",
    "width = fp.read(2)\n",
    "# Uma leitura a mais para pegar o '\\n' no arquivo\n",
    "fp.readline()\n",
    "\n",
    "while len(chars) > 0:\n",
    "    # Pega os caracteres de uma linha do arquivo\n",
    "    chars = [str(i) for i in fp.readline().strip()]\n",
    "\n",
    "    # Adiciona os caracteres no maze\n",
    "    for x in range(len(chars)):\n",
    "        maze[(heightMaze, x)] = chars[x]\n",
    "        # Caso for o ponto de partida, adiciona no start\n",
    "        if(chars[x] == '#'):\n",
    "            start = (heightMaze, x)\n",
    "        # Caso for o ponto de chegada, adiciona no end\n",
    "        elif(chars[x] == '$'):\n",
    "            end = (heightMaze, x)\n",
    "\n",
    "    # Incrementa a altura da matriz na leitura\n",
    "    if(len(chars) > 0):\n",
    "        heightMaze += 1\n",
    "\n",
    "# Fecha o arquivo após uso \n",
    "fp.close()"
   ]
  },
  {
   "cell_type": "code",
   "execution_count": 140,
   "metadata": {},
   "outputs": [],
   "source": [
    "def visit(maze, current_node, goal_node, visited, height, width):\n",
    "    \n",
    "    visited.append(current_node)\n",
    "    \n",
    "    x, y = current_node.position\n",
    "    neighbors = []\n",
    "    \n",
    "    if(x != 0 ):\n",
    "        neighbors.append((x-1,y))\n",
    "    if(x < height-1 ):\n",
    "        neighbors.append((x+1,y))\n",
    "    if(y != 0 ):\n",
    "        neighbors.append((x,y-1))\n",
    "    if(y < width-1 ):\n",
    "        neighbors.append((x,y+1))\n",
    "    \n",
    "    for i in neighbors:\n",
    "        maze_value = maze.get(i)\n",
    "        \n",
    "        if(maze_value == '-'):\n",
    "            continue\n",
    "        \n",
    "        neighbor = Node(i, current_node)\n",
    "        \n",
    "        if(neighbor in visited):\n",
    "            continue\n",
    "            \n",
    "        if(neighbor == goal_node):\n",
    "            return neighbor\n",
    "        \n",
    "        temp = visit(maze, neighbor, goal_node, visited, height, width)\n",
    "        if temp is not None:\n",
    "            return temp\n",
    "    \n",
    "    return None"
   ]
  },
  {
   "cell_type": "code",
   "execution_count": 134,
   "metadata": {},
   "outputs": [],
   "source": [
    "def DFS (maze, start, end, height, width):\n",
    "    \n",
    "    visited = []\n",
    "    \n",
    "    start_node = Node(start, None)\n",
    "    goal_node = Node(end, None)\n",
    "    goal_node = visit(maze, start_node, goal_node, visited, height, width)\n",
    "    \n",
    "    path = []\n",
    "    while goal_node != start_node:\n",
    "        path.append(goal_node.position)\n",
    "        goal_node = goal_node.parent\n",
    "    return path[::-1]"
   ]
  },
  {
   "cell_type": "code",
   "execution_count": 141,
   "metadata": {},
   "outputs": [],
   "source": [
    "path = DFS(maze, start, end, int(height), int(width))"
   ]
  }
 ],
 "metadata": {
  "kernelspec": {
   "display_name": "Python 3",
   "language": "python",
   "name": "python3"
  },
  "language_info": {
   "codemirror_mode": {
    "name": "ipython",
    "version": 3
   },
   "file_extension": ".py",
   "mimetype": "text/x-python",
   "name": "python",
   "nbconvert_exporter": "python",
   "pygments_lexer": "ipython3",
   "version": "3.6.9"
  }
 },
 "nbformat": 4,
 "nbformat_minor": 2
}
