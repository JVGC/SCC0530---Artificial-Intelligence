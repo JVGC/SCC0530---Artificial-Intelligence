{
 "cells": [
  {
   "cell_type": "code",
   "execution_count": 1,
   "metadata": {},
   "outputs": [],
   "source": [
    "import sys\n",
    "sys.setrecursionlimit(1500)"
   ]
  },
  {
   "cell_type": "code",
   "execution_count": 2,
   "metadata": {},
   "outputs": [],
   "source": [
    "class Node:\n",
    "\n",
    "    # Inicializacao da classe\n",
    "    def __init__(self, position:(), parent:()):\n",
    "        self.position = position\n",
    "        self.parent = parent\n",
    "        self.g = 0 # Distance do nó inicial\n",
    "        self.h = 0 # Distancia do nó objetivo\n",
    "        self.f = 0 # Custo total calculado\n",
    "\n",
    "    # Compara os nós\n",
    "    def __eq__(self, other):\n",
    "        return self.position == other.position\n",
    "\n",
    "    # Ordenação dos nós\n",
    "    def __lt__(self, other):\n",
    "         return self.f < other.f\n",
    "\n",
    "    # Formatação da saída dos nós\n",
    "    def __repr__(self):\n",
    "        return ('({0},{1})'.format(self.position, self.f))"
   ]
  },
  {
   "cell_type": "code",
   "execution_count": 3,
   "metadata": {
    "scrolled": true
   },
   "outputs": [
    {
     "name": "stdout",
     "output_type": "stream",
     "text": [
      "Digite o nome do arquivo: entrada.txt\n"
     ]
    }
   ],
   "source": [
    "maze = {}\n",
    "# Adiciona um caracter qualquer para iniciar o loop\n",
    "chars = ['c']\n",
    "start = None\n",
    "end = None\n",
    "heightMaze = 0\n",
    "fileName = input(\"Digite o nome do arquivo: \")\n",
    "\n",
    "# Abre o arquivo\n",
    "fp = open(fileName, 'r')\n",
    "\n",
    "# Faz a leitura do comeco do arquivo pegando altura e largura\n",
    "height = fp.read(2)\n",
    "fp.read(1) \n",
    "width = fp.read(2)\n",
    "# Uma leitura a mais para pegar o '\\n' no arquivo\n",
    "fp.readline()\n",
    "\n",
    "while len(chars) > 0:\n",
    "    # Pega os caracteres de uma linha do arquivo\n",
    "    chars = [str(i) for i in fp.readline().strip()]\n",
    "\n",
    "    # Adiciona os caracteres no maze\n",
    "    for x in range(len(chars)):\n",
    "        maze[(heightMaze, x)] = chars[x]\n",
    "        # Caso for o ponto de partida, adiciona no start\n",
    "        if(chars[x] == '#'):\n",
    "            start = (heightMaze, x)\n",
    "        # Caso for o ponto de chegada, adiciona no end\n",
    "        elif(chars[x] == '$'):\n",
    "            end = (heightMaze, x)\n",
    "\n",
    "    # Incrementa a altura da matriz na leitura\n",
    "    if(len(chars) > 0):\n",
    "        heightMaze += 1\n",
    "\n",
    "# Fecha o arquivo após uso \n",
    "fp.close()"
   ]
  },
  {
   "cell_type": "code",
   "execution_count": 4,
   "metadata": {},
   "outputs": [],
   "source": [
    "maze['height'] = int(height)\n",
    "maze['width'] = int(width)"
   ]
  },
  {
   "cell_type": "code",
   "execution_count": 11,
   "metadata": {},
   "outputs": [],
   "source": [
    "def visit(maze, current_node, goal_node, visited):\n",
    "    \n",
    "    visited.append(current_node)\n",
    "    \n",
    "    x, y = current_node.position\n",
    "    neighbors = []\n",
    "    \n",
    "    if(x != 0 ):\n",
    "        neighbors.append((x-1,y))\n",
    "    if(x < maze['height']-1 ):\n",
    "        neighbors.append((x+1,y))\n",
    "    if(y != 0 ):\n",
    "        neighbors.append((x,y-1))\n",
    "    if(y < maze['width']-1 ):\n",
    "        neighbors.append((x,y+1))\n",
    "    \n",
    "    for i in neighbors:\n",
    "        maze_value = maze.get(i)\n",
    "        \n",
    "        if(maze_value == '-'):\n",
    "            continue\n",
    "        \n",
    "        neighbor = Node(i, current_node)\n",
    "        \n",
    "        if(neighbor in visited):\n",
    "            continue\n",
    "            \n",
    "        if(neighbor == goal_node):\n",
    "            return neighbor\n",
    "        \n",
    "        temp = visit(maze, neighbor, goal_node, visited)\n",
    "        if temp is not None:\n",
    "            return temp\n",
    "    \n",
    "    return None"
   ]
  },
  {
   "cell_type": "code",
   "execution_count": 13,
   "metadata": {},
   "outputs": [],
   "source": [
    "def DFS (maze, start, end):\n",
    "    \n",
    "    visited = []\n",
    "    \n",
    "    start_node = Node(start, None)\n",
    "    goal_node = Node(end, None)\n",
    "    goal_node = visit(maze, start_node, goal_node, visited)\n",
    "    \n",
    "    path = []\n",
    "    while goal_node != start_node:\n",
    "        path.append(goal_node.position)\n",
    "        goal_node = goal_node.parent\n",
    "    return path[::-1]"
   ]
  },
  {
   "cell_type": "code",
   "execution_count": 14,
   "metadata": {},
   "outputs": [],
   "source": [
    "path = DFS(maze, start, end)"
   ]
  },
  {
   "cell_type": "code",
   "execution_count": 7,
   "metadata": {},
   "outputs": [],
   "source": [
    "def Breadth_First_Search(maze, start, end):\n",
    "    # Cria lista dos nós abertos e dos nós fechados\n",
    "    open = []\n",
    "    closed = []\n",
    "    neighbors = []\n",
    "\n",
    "    # Cria um nó inicial e um nó objetivo\n",
    "    start_node = Node(start, None)\n",
    "    goal_node = Node(end, None)\n",
    "\n",
    "    # Adiciona o nó incial na lista de abertos\n",
    "    open.append(start_node)\n",
    "    \n",
    "    # Loop até que a lista de abertos esteja vazia\n",
    "    while len(open) > 0:\n",
    "\n",
    "        # Pega o nó com menor custo que se encontra no inicio\n",
    "        current_node = open.pop(0)\n",
    "\n",
    "        # Adiciona o nó na lista de fechados\n",
    "        closed.append(current_node)\n",
    "        \n",
    "        # Checa se o objetivo foi atingido\n",
    "        if current_node == goal_node:\n",
    "            path = []\n",
    "            while current_node != start_node:\n",
    "                path.append(current_node.position)\n",
    "                current_node = current_node.parent\n",
    "            return path[::-1]\n",
    "\n",
    "        # Pega a posicao do nó no labirinto\n",
    "        (x, y) = current_node.position\n",
    "\n",
    "        # Obtem os vizinhos do nó\n",
    "        if(x != 0 ):\n",
    "            neighbors.append((x-1,y))\n",
    "        if(x < maze['height']-1 ):\n",
    "            neighbors.append((x+1,y))\n",
    "        if(y != 0 ):\n",
    "            neighbors.append((x,y-1))\n",
    "        if(y < maze['width']-1 ):\n",
    "            neighbors.append((x,y+1))\n",
    "\n",
    "        # Loop entre os vizinho para obter proximo nó\n",
    "        for i in neighbors:\n",
    "\n",
    "            # Pega o char do labirinto\n",
    "            maze_value = maze.get(i)\n",
    "\n",
    "            # Caso for uma parede, ir para proxima iteração\n",
    "            if(maze_value == '-'):\n",
    "                continue\n",
    "\n",
    "            # Cria um nó do vizinho\n",
    "            neighbor = Node(next, current_node)\n",
    "\n",
    "            # Se o vizinho ja foi visitado, ir para proxima iteracao\n",
    "            if(neighbor in closed):\n",
    "                continue\n",
    "                \n",
    "            print(neighbor.position)\n",
    "            open.append(neighbor)\n",
    "        \n",
    "        neighbors.clear()\n",
    "\n",
    "    # Return None, se nenhum caminho foi encontrado\n",
    "    return None"
   ]
  },
  {
   "cell_type": "code",
   "execution_count": null,
   "metadata": {},
   "outputs": [],
   "source": []
  },
  {
   "cell_type": "code",
   "execution_count": 8,
   "metadata": {},
   "outputs": [
    {
     "name": "stdout",
     "output_type": "stream",
     "text": [
      "<built-in function next>\n",
      "<built-in function next>\n"
     ]
    },
    {
     "ename": "TypeError",
     "evalue": "'builtin_function_or_method' object is not iterable",
     "output_type": "error",
     "traceback": [
      "\u001b[0;31m---------------------------------------------------------------------------\u001b[0m",
      "\u001b[0;31mTypeError\u001b[0m                                 Traceback (most recent call last)",
      "\u001b[0;32m<ipython-input-8-ec100319f58b>\u001b[0m in \u001b[0;36m<module>\u001b[0;34m\u001b[0m\n\u001b[0;32m----> 1\u001b[0;31m \u001b[0mpath\u001b[0m \u001b[0;34m=\u001b[0m \u001b[0mBreadth_First_Search\u001b[0m\u001b[0;34m(\u001b[0m\u001b[0mmaze\u001b[0m\u001b[0;34m,\u001b[0m \u001b[0mstart\u001b[0m\u001b[0;34m,\u001b[0m \u001b[0mend\u001b[0m\u001b[0;34m)\u001b[0m\u001b[0;34m\u001b[0m\u001b[0;34m\u001b[0m\u001b[0m\n\u001b[0m",
      "\u001b[0;32m<ipython-input-7-623a9e0c16d9>\u001b[0m in \u001b[0;36mBreadth_First_Search\u001b[0;34m(maze, start, end)\u001b[0m\n\u001b[1;32m     30\u001b[0m \u001b[0;34m\u001b[0m\u001b[0m\n\u001b[1;32m     31\u001b[0m         \u001b[0;31m# Pega a posicao do nó no labirinto\u001b[0m\u001b[0;34m\u001b[0m\u001b[0;34m\u001b[0m\u001b[0;34m\u001b[0m\u001b[0m\n\u001b[0;32m---> 32\u001b[0;31m         \u001b[0;34m(\u001b[0m\u001b[0mx\u001b[0m\u001b[0;34m,\u001b[0m \u001b[0my\u001b[0m\u001b[0;34m)\u001b[0m \u001b[0;34m=\u001b[0m \u001b[0mcurrent_node\u001b[0m\u001b[0;34m.\u001b[0m\u001b[0mposition\u001b[0m\u001b[0;34m\u001b[0m\u001b[0;34m\u001b[0m\u001b[0m\n\u001b[0m\u001b[1;32m     33\u001b[0m \u001b[0;34m\u001b[0m\u001b[0m\n\u001b[1;32m     34\u001b[0m         \u001b[0;31m# Obtem os vizinhos do nó\u001b[0m\u001b[0;34m\u001b[0m\u001b[0;34m\u001b[0m\u001b[0;34m\u001b[0m\u001b[0m\n",
      "\u001b[0;31mTypeError\u001b[0m: 'builtin_function_or_method' object is not iterable"
     ]
    }
   ],
   "source": [
    "path = Breadth_First_Search(maze, start, end)"
   ]
  },
  {
   "cell_type": "code",
   "execution_count": 15,
   "metadata": {},
   "outputs": [
    {
     "data": {
      "text/plain": [
       "[(0, 3),\n",
       " (0, 4),\n",
       " (0, 5),\n",
       " (1, 5),\n",
       " (2, 5),\n",
       " (3, 5),\n",
       " (4, 5),\n",
       " (5, 5),\n",
       " (6, 5),\n",
       " (7, 5),\n",
       " (8, 5),\n",
       " (9, 5),\n",
       " (10, 5),\n",
       " (11, 5),\n",
       " (12, 5),\n",
       " (13, 5),\n",
       " (14, 5),\n",
       " (15, 5),\n",
       " (16, 5),\n",
       " (17, 5),\n",
       " (18, 5),\n",
       " (19, 5),\n",
       " (20, 5),\n",
       " (21, 5),\n",
       " (22, 5),\n",
       " (22, 6),\n",
       " (22, 7),\n",
       " (22, 8),\n",
       " (23, 8),\n",
       " (24, 8),\n",
       " (25, 8),\n",
       " (25, 9),\n",
       " (25, 10),\n",
       " (25, 11),\n",
       " (26, 11),\n",
       " (27, 11),\n",
       " (28, 11),\n",
       " (28, 12),\n",
       " (28, 13),\n",
       " (28, 14),\n",
       " (28, 15),\n",
       " (28, 16),\n",
       " (28, 17),\n",
       " (28, 18),\n",
       " (28, 19),\n",
       " (28, 20),\n",
       " (28, 21),\n",
       " (28, 22)]"
      ]
     },
     "execution_count": 15,
     "metadata": {},
     "output_type": "execute_result"
    }
   ],
   "source": [
    "path"
   ]
  }
 ],
 "metadata": {
  "kernelspec": {
   "display_name": "Python 3",
   "language": "python",
   "name": "python3"
  },
  "language_info": {
   "codemirror_mode": {
    "name": "ipython",
    "version": 3
   },
   "file_extension": ".py",
   "mimetype": "text/x-python",
   "name": "python",
   "nbconvert_exporter": "python",
   "pygments_lexer": "ipython3",
   "version": "3.6.9"
  }
 },
 "nbformat": 4,
 "nbformat_minor": 2
}
